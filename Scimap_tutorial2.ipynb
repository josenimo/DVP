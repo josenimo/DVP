{
 "cells": [
  {
   "cell_type": "code",
   "execution_count": 1,
   "id": "9aad11de",
   "metadata": {},
   "outputs": [],
   "source": [
    "# Load necessary libraries\n",
    "import sys\n",
    "import os\n",
    "import anndata as ad\n",
    "import pandas as pd\n",
    "import scanpy as sc\n",
    "import seaborn as sns; sns.set(color_codes=True)\n",
    "\n",
    "# Import Scimap\n",
    "import scimap as sm"
   ]
  },
  {
   "cell_type": "code",
   "execution_count": null,
   "id": "4e9f23f4",
   "metadata": {},
   "outputs": [],
   "source": []
  }
 ],
 "metadata": {
  "kernelspec": {
   "display_name": "Python [conda env:scimap] *",
   "language": "python",
   "name": "conda-env-scimap-py"
  },
  "language_info": {
   "codemirror_mode": {
    "name": "ipython",
    "version": 3
   },
   "file_extension": ".py",
   "mimetype": "text/x-python",
   "name": "python",
   "nbconvert_exporter": "python",
   "pygments_lexer": "ipython3",
   "version": "3.7.11"
  }
 },
 "nbformat": 4,
 "nbformat_minor": 5
}
